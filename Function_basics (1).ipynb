{
  "nbformat": 4,
  "nbformat_minor": 0,
  "metadata": {
    "colab": {
      "provenance": []
    },
    "kernelspec": {
      "name": "python3",
      "display_name": "Python 3"
    },
    "language_info": {
      "name": "python"
    }
  },
  "cells": [
    {
      "cell_type": "markdown",
      "source": [
        "Q.1. What is the difference between a function and a\n",
        "method in Python?\n",
        "\n",
        "Ans.In Python, both functions and methods are blocks of code designed to perform\n",
        "specific tasks, but they different from each other.\n",
        "\n",
        "(a).Function\n",
        "\n",
        "A function is a reusable block of code that performs a specific task and is defined\n",
        "using the def keyword. Functions can be called independently of classes.\n",
        "e.g"
      ],
      "metadata": {
        "id": "jfmG7bdWaQFu"
      }
    },
    {
      "cell_type": "code",
      "execution_count": null,
      "metadata": {
        "colab": {
          "base_uri": "https://localhost:8080/"
        },
        "id": "cfbYfq39ZUZM",
        "outputId": "d28257d9-9b9e-45fb-99c5-2bd2150f3fdb"
      },
      "outputs": [
        {
          "output_type": "stream",
          "name": "stdout",
          "text": [
            "Hello, sanjana!\n"
          ]
        }
      ],
      "source": [
        "def greet(name):\n",
        " return f\"Hello, {name}!\"\n",
        "# Calling the function\n",
        "print(greet(\"sanjana\"))\n"
      ]
    },
    {
      "cell_type": "markdown",
      "source": [
        "In this example, greet is a function that takes one parameter name and returns a\n",
        "greeting message.\n",
        "\n",
        "(b).Method\n",
        "\n",
        "A method is similar to a function but is associated with an object. Methods are\n",
        "defined within a class and are called on instances of that class. They operate on the\n",
        "data contained in the class and have access to instance attributes.\n"
      ],
      "metadata": {
        "id": "qOLjrRmsatPF"
      }
    },
    {
      "cell_type": "code",
      "source": [
        "class Person:\n",
        " def __init__(self, name):\n",
        "  self.name = name\n",
        "\n",
        " def greet(self):\n",
        "  return f\"Hello, {self.name}!\"\n",
        "# Creating an instance of the class\n",
        "person = Person(\"Sanjana\")\n",
        "# Calling the method\n",
        "print(person.greet())\n"
      ],
      "metadata": {
        "colab": {
          "base_uri": "https://localhost:8080/"
        },
        "id": "_xPgpEPGakEx",
        "outputId": "a126d05f-67d3-4c24-fd57-d074ce27e586"
      },
      "execution_count": null,
      "outputs": [
        {
          "output_type": "stream",
          "name": "stdout",
          "text": [
            "Hello, Sanjana!\n"
          ]
        }
      ]
    },
    {
      "cell_type": "markdown",
      "source": [
        "In this example, greet is a method defined within the Person class. It uses the\n",
        "instance attribute self.name to return a greeting message.\n",
        "\n",
        "Function defines outside of classes and can be called independently.\n",
        "\n",
        "while method defines inside a class and is called on instances of the class. It operates\n",
        "on instance data."
      ],
      "metadata": {
        "id": "vfNdAAMfa_py"
      }
    },
    {
      "cell_type": "markdown",
      "source": [
        "###Q.2. Explain the concept of function arguments and parameters in Python.\n",
        "\n",
        "Ans.In Python, function arguments and parameters are crucial concepts that help us\n",
        "pass information to functions and methods.\n",
        "\n",
        "Parameters\n",
        "\n",
        "Parameters are variables listed in a function’s definition. They act as placeholders for\n",
        "the values we have to pass into the function.\n",
        "e.g."
      ],
      "metadata": {
        "id": "OICNREJPbTVV"
      }
    },
    {
      "cell_type": "code",
      "source": [
        "def add(a, b): # 'a' and 'b' are parameters\n",
        " return a + b"
      ],
      "metadata": {
        "id": "7orTqtXCbYMT"
      },
      "execution_count": null,
      "outputs": []
    },
    {
      "cell_type": "markdown",
      "source": [
        "In this example, a and b are parameters of the add function. They specify that the\n",
        "function expects two inputs when it's called.\n",
        "\n",
        "Arguments\n",
        "\n",
        "Arguments are the actual values or data you pass to a function when you call it. They\n",
        "replace the parameters in the function's definition.\n",
        "e.g.\n"
      ],
      "metadata": {
        "id": "rbSizisfbdU_"
      }
    },
    {
      "cell_type": "code",
      "source": [
        "result = add(4, 6) # '4' and '6' are arguments\n",
        "print(result)\n"
      ],
      "metadata": {
        "colab": {
          "base_uri": "https://localhost:8080/"
        },
        "id": "elaXjI1EbjnA",
        "outputId": "27dd2ba1-8bef-45cd-9d25-e2605f700094"
      },
      "execution_count": null,
      "outputs": [
        {
          "output_type": "stream",
          "name": "stdout",
          "text": [
            "10\n"
          ]
        }
      ]
    },
    {
      "cell_type": "markdown",
      "source": [
        "In this example, 4 and 6 are arguments passed to the add function. They replace the\n",
        "parameters a and b, respectively.\n",
        "\n",
        "Parameters Variables in the function definition that act as placeholders for the\n",
        "values.\n",
        "\n",
        "while Arguments Actual values passed to the function when it is called.\n",
        "\n",
        "By understanding both parameters and arguments, we can effectively write and use\n",
        "functions to perform operations with various inputs."
      ],
      "metadata": {
        "id": "ZR9JXeMlczqf"
      }
    },
    {
      "cell_type": "markdown",
      "source": [
        "##Q.3.What are the different ways to define and call a function in Python?\n",
        "Ans.In Python, we can define and call functions in various ways. Here are some\n",
        "common methods:\n",
        "\n",
        "(a). Standard Function Definition and Call\n",
        "\n",
        "Definition:"
      ],
      "metadata": {
        "id": "HihhVgzbc5Mr"
      }
    },
    {
      "cell_type": "code",
      "source": [
        "def greet(name):\n",
        " return f\"Hello, {name}!\"\n",
        " print(greet(\"Avinash\"))\n"
      ],
      "metadata": {
        "id": "WL2S0Lr-dC4Q"
      },
      "execution_count": null,
      "outputs": []
    },
    {
      "cell_type": "markdown",
      "source": [
        "(b). Function with Default Parameters\n",
        "\n",
        "\n",
        "You can provide default values for parameters. If no argument is passed for that\n",
        "parameter, the default value is used.\n",
        "\n",
        "Definition:"
      ],
      "metadata": {
        "id": "JYgFd_tjdbKa"
      }
    },
    {
      "cell_type": "code",
      "source": [
        "def greet(name=\"Student\"):\n",
        " return f\"Hello, {name}!\""
      ],
      "metadata": {
        "id": "njcb_o_Ldgr4"
      },
      "execution_count": null,
      "outputs": []
    },
    {
      "cell_type": "code",
      "source": [
        "print(greet()) # Uses default parameter\n",
        "print(greet(\"Sanjana\"))"
      ],
      "metadata": {
        "colab": {
          "base_uri": "https://localhost:8080/"
        },
        "id": "ei5_v3VIdja0",
        "outputId": "4c52ec19-4550-4c3b-a9dc-8589d13d0d9f"
      },
      "execution_count": null,
      "outputs": [
        {
          "output_type": "stream",
          "name": "stdout",
          "text": [
            "Hello, Student!\n",
            "Hello, Sanjana!\n"
          ]
        }
      ]
    },
    {
      "cell_type": "markdown",
      "source": [
        "(c). Function with Variable-Length Arguments\n",
        "\n",
        "You can define functions that accept a variable number of arguments using *args for\n",
        "positional arguments and **kwargs for keyword arguments.\n",
        "\n",
        "Definition"
      ],
      "metadata": {
        "id": "xiSetJgydbBJ"
      }
    },
    {
      "cell_type": "code",
      "source": [
        "def greet(*names):\n",
        " return \", \".join(f\"Hello, {name}!\" for name in names)\n",
        "\n",
        "print(greet(\"Anurag\", \"Avinash\", \"Pradip\"))"
      ],
      "metadata": {
        "colab": {
          "base_uri": "https://localhost:8080/"
        },
        "id": "ZZKzBmVnoeVo",
        "outputId": "ce553b8d-6bf4-4a1b-bbef-45b55844ea1c"
      },
      "execution_count": null,
      "outputs": [
        {
          "output_type": "stream",
          "name": "stdout",
          "text": [
            "Hello, Anurag!, Hello, Avinash!, Hello, Pradip!\n"
          ]
        }
      ]
    },
    {
      "cell_type": "markdown",
      "source": [
        "d). Lambda Functions\n",
        "\n",
        "Lambda functions are small anonymous functions defined with the lambda keyword.\n",
        "They are useful for short, throwaway functions.\n",
        "\n",
        "Definition and Call:"
      ],
      "metadata": {
        "id": "aV7ZvcBDoqWf"
      }
    },
    {
      "cell_type": "code",
      "source": [
        "square = lambda x: x ** x\n",
        "print(square(5))"
      ],
      "metadata": {
        "colab": {
          "base_uri": "https://localhost:8080/"
        },
        "id": "6H7UPPN4pR1v",
        "outputId": "05444fde-ded5-4743-d547-37437be49519"
      },
      "execution_count": null,
      "outputs": [
        {
          "output_type": "stream",
          "name": "stdout",
          "text": [
            "3125\n"
          ]
        }
      ]
    },
    {
      "cell_type": "markdown",
      "source": [
        "###4. What is the purpose of the 'return' statement in a Python function?\n",
        "\n",
        "Ans.\n",
        "\n",
        "\n",
        "The return statement in a Python function is used to exit the function and send a\n",
        "value back to the caller. This value can be of any data type, including numbers,\n",
        "strings, lists, dictionaries, or even other functions. The return statement can also be\n",
        "used to end a function without returning a value, in which case the function returns\n",
        "None by default.\n",
        "####Purpose of return:\n",
        "Send a value back to the caller: The primary purpose of the return statement is to\n",
        "pass the result of the function back to the code that called it.\n",
        "Terminate the function execution: Once a return statement is executed, the function\n",
        "terminates, and no further code within the function is executed.\n",
        "\n",
        "Example:\n",
        "\n",
        "Here’s a simple function that calculates the square of a number and returns the\n",
        "result"
      ],
      "metadata": {
        "id": "aSjPuRmvoqQc"
      }
    },
    {
      "cell_type": "code",
      "source": [
        "def square(number):\n",
        " result = number * number\n",
        " return result\n",
        "# Calling the function and printing the result\n",
        "print(square(4))"
      ],
      "metadata": {
        "colab": {
          "base_uri": "https://localhost:8080/"
        },
        "id": "yX19Sf5lp5Xq",
        "outputId": "7bd37a0a-7a65-42ff-8be1-d254e030c4c0"
      },
      "execution_count": null,
      "outputs": [
        {
          "output_type": "stream",
          "name": "stdout",
          "text": [
            "16\n"
          ]
        }
      ]
    },
    {
      "cell_type": "markdown",
      "source": [
        "In this example:\n",
        "* The function square takes one parameter number.\n",
        "* It calculates the square of the number and stores it in the variable result.\n",
        "* The return statement sends the value of result back to the caller.\n",
        "* When we call square(4), it returns 16, which is then printed.\n",
        "\n",
        "The return statement ensures that once a match is found and the value is returned,\n",
        "the function exits immediately"
      ],
      "metadata": {
        "id": "LhLMCfC4qAiS"
      }
    },
    {
      "cell_type": "markdown",
      "source": [
        "###5. What are iterators in Python and how do they differ from iterables?\n",
        "Iterators and iterables are fundamental concepts in Python that facilitate the process\n",
        "of iterating over data structures. Understanding their differences is crucial for\n",
        "effective programming in Python.\n",
        "\n",
        "Iterable\n",
        "\n",
        "An iterable is any Python object that can return its elements one at a time. This\n",
        "includes data structures such as lists, tuples, strings, and dictionaries. An iterable\n",
        "implements the iter() method, which returns an iterator object."
      ],
      "metadata": {
        "id": "md5VOvmMqFOk"
      }
    },
    {
      "cell_type": "code",
      "source": [
        "cities = [\"Berlin\", \"Vienna\", \"Zurich\"]\n",
        "for city in cities:\n",
        " print(city)\n"
      ],
      "metadata": {
        "colab": {
          "base_uri": "https://localhost:8080/"
        },
        "id": "2fiBXqVtqZGc",
        "outputId": "6750eeae-8bea-42b5-bdac-ec3d1e96f064"
      },
      "execution_count": null,
      "outputs": [
        {
          "output_type": "stream",
          "name": "stdout",
          "text": [
            "Berlin\n",
            "Vienna\n",
            "Zurich\n"
          ]
        }
      ]
    },
    {
      "cell_type": "markdown",
      "source": [
        "Iterator\n",
        "\n",
        "An iterator is an object that represents a stream of data; it returns one element at a\n",
        "time from an iterable. An iterator implements two methods: iter() which returns the\n",
        "iterator itself, and next() which returns the next value from the iterable. When there\n",
        "are no more items to return, next() raises a StopIteration exception."
      ],
      "metadata": {
        "id": "QKcosy1jqdU-"
      }
    },
    {
      "cell_type": "code",
      "source": [
        "cities = [\"Berlin\", \"Vienna\", \"Zurich\"]\n",
        "iterator = iter(cities)\n",
        "print(next(iterator)) # Output: Berlin\n",
        "print(next(iterator)) # Output: Vienna\n",
        "print(next(iterator))"
      ],
      "metadata": {
        "colab": {
          "base_uri": "https://localhost:8080/"
        },
        "id": "EVP-b2MJqhjN",
        "outputId": "dc91c454-07ac-47d0-ce81-312983435b60"
      },
      "execution_count": null,
      "outputs": [
        {
          "output_type": "stream",
          "name": "stdout",
          "text": [
            "Berlin\n",
            "Vienna\n",
            "Zurich\n"
          ]
        }
      ]
    },
    {
      "cell_type": "markdown",
      "source": [
        "In this example, iterator is an iterator created from the cities list. The next() function\n",
        "retrieves the next item from the iterator.\n",
        "\n",
        "####Key Differences\n",
        "\n",
        "Definition: An iterable is an object that can be iterated over, while an iterator is the\n",
        "object that does the actual iteration.\n",
        "\n",
        "Methods: Iterables have the iter() method that returns an iterator. Iterators have\n",
        "both iter() and next() methods.\n",
        "\n",
        "Usage: You can use for loops directly with iterables, but you must call next() on an\n",
        "iterator to retrieve items one at a time.\n",
        "\n",
        "Relationship: Every iterator is an iterable (because it implements iter()), but not every\n",
        "iterable is an iterator.\n",
        "\n",
        "This distinction allows Python to handle data streams efficiently, enabling both\n",
        "simple and complex iterations in various programming scenarios.\n",
        "\n",
        "This distinction allows Python to handle data streams efficiently, enabling both\n",
        "simple and complex iterations in various programming scenarios"
      ],
      "metadata": {
        "id": "19snNXSvqti3"
      }
    },
    {
      "cell_type": "markdown",
      "source": [
        "###Q.6. Explain the concept of generators in Python and how they are defined.\n",
        "\n",
        "Ans.Generators are a powerful feature in Python that allow us to create iterators in a\n",
        "very efficient way. They enable us to iterate over a sequence of values without the\n",
        "need to store the entire sequence in memory at once. This is particularly useful when\n",
        "dealing with large datasets or streams of data.\n",
        "\n",
        "A generator is a special type of iterator that is defined using a function. Instead of\n",
        "returning a single value, a generator uses the yield keyword to produce a series of\n",
        "values over time. Each time the generator's next() method is called, the function runs\n",
        "until it hits the yield statement, which produces a value and pauses the function's\n",
        "state. The next time next() is called, the function resumes from where it left off.\n",
        "\n",
        "Advantages of Generators\n",
        "(a).Memory Efficiency: Generators do not store their contents in memory. They\n",
        "generate values on-the-fly, which is beneficial for large datasets.\n",
        "\n",
        "(b).Lazy Evaluation: Values are produced only when requested, which can lead to\n",
        "performance improvements.\n",
        "\n",
        "(c).Simpler Code: Generators can simplify code that would otherwise require more\n",
        "complex iterator classes.\n",
        "\n",
        "To define a generator in Python, we can use a function that contains one or more\n",
        "yield statements"
      ],
      "metadata": {
        "id": "7DLEzspdr43g"
      }
    },
    {
      "cell_type": "code",
      "source": [
        "def count_up_to(max):\n",
        " count = 1\n",
        " while count <= max:\n",
        "  yield count\n",
        "  count += 1\n",
        "\n",
        "# Create a generator\n",
        "counter = count_up_to(5)\n",
        "# Iterate through the generator\n",
        "for number in counter:\n",
        " print(number)\n"
      ],
      "metadata": {
        "colab": {
          "base_uri": "https://localhost:8080/"
        },
        "id": "IaWLVqElrMUa",
        "outputId": "3199483b-48bd-4a2c-bab8-99e89348cef4"
      },
      "execution_count": null,
      "outputs": [
        {
          "output_type": "stream",
          "name": "stdout",
          "text": [
            "1\n",
            "2\n",
            "3\n",
            "4\n",
            "5\n"
          ]
        }
      ]
    },
    {
      "cell_type": "markdown",
      "source": [
        "Generators are a convenient and efficient way to handle large datasets or streams of\n",
        "data in Python. By using the yield keyword, we can create iterable sequences without\n",
        "the overhead of storing all values in memory at once. This makes them an essential\n",
        "tool in a data scientist's toolkit, especially when working with large datasets"
      ],
      "metadata": {
        "id": "KKNh_bpOtd1r"
      }
    },
    {
      "cell_type": "markdown",
      "source": [
        "###Q.7. What are the advantages of using generators over regular functions?\n",
        "Ans.Generators offer several advantages over regular functions in Python,\n",
        "particularly in terms of memory efficiency, performance, and ease of use. Here are\n",
        "the key advantages:\n",
        "\n",
        "\n",
        "Advantages of Generators\n",
        "(a).Memory Efficiency: Generators yield items one at a time and do not store the\n",
        "entire sequence in memory. This is particularly useful when working with large\n",
        "datasets or infinite sequences, as it significantly reduces memory consumption\n",
        "compared to regular functions that return lists or other collections.\n",
        "\n",
        "(b).Lazy Evaluation: Generators compute values on-the-fly, meaning values are\n",
        "generated only when requested. This can lead to performance improvements,\n",
        "especially when dealing with large datasets or expensive computations, as not all\n",
        "values need to be computed upfront.\n",
        "\n",
        "(c).State Retention: Unlike regular functions, which terminate after returning a value,\n",
        "generators maintain their state between calls. This allows them to resume execution\n",
        "from where they left off, making them ideal for iterative processes.\n",
        "\n",
        "(d).Infinite Sequences: Generators can easily create infinite sequences without\n",
        "running out of memory. Regular functions would require predefining the size of a\n",
        "list, which is not necessary with generators.\n",
        "\n",
        "(e).Simplified Code: Generators can simplify code that would otherwise require more\n",
        "complex iterator classes, making it easier to read and maintain.\n",
        "\n",
        "Example of a Generator vs. a Regular Function\n",
        "\n",
        "Here’s an example comparing a generator that produces Fibonacci numbers with a\n",
        "regular function that returns a list of Fibonacci numbers.\n",
        "\n",
        "Regular Function\n"
      ],
      "metadata": {
        "id": "RhmQupxptrI8"
      }
    },
    {
      "cell_type": "code",
      "source": [
        "def fibonacci_list(n):\n",
        " fib = []\n",
        " a, b = 0, 1\n",
        " for i in range(n):\n",
        " fib.append(a)\n",
        " a, b = b, a + b\n",
        " return fib\n",
        "# Usage\n",
        "fib_numbers = fibonacci_list(10)\n",
        "print(fib_numbers)\n"
      ],
      "metadata": {
        "id": "zLsqwb7buRj9"
      },
      "execution_count": null,
      "outputs": []
    },
    {
      "cell_type": "code",
      "source": [
        "def fibonacci_generator(n):\n",
        " a, b = 0, 1\n",
        " for _ in range(n):\n",
        " yield a\n",
        " a, b = b, a + b\n",
        "# Usage\n",
        "for number in fibonacci_generator(10):\n",
        " print(number)"
      ],
      "metadata": {
        "id": "u4-4DoMRuZk_",
        "colab": {
          "base_uri": "https://localhost:8080/",
          "height": 110
        },
        "outputId": "4a1f4573-60b0-42d3-b540-f9883afe92e4"
      },
      "execution_count": null,
      "outputs": [
        {
          "output_type": "error",
          "ename": "IndentationError",
          "evalue": "expected an indented block after 'for' statement on line 3 (<ipython-input-1-3b8f50678ce0>, line 4)",
          "traceback": [
            "\u001b[0;36m  File \u001b[0;32m\"<ipython-input-1-3b8f50678ce0>\"\u001b[0;36m, line \u001b[0;32m4\u001b[0m\n\u001b[0;31m    yield a\u001b[0m\n\u001b[0m    ^\u001b[0m\n\u001b[0;31mIndentationError\u001b[0m\u001b[0;31m:\u001b[0m expected an indented block after 'for' statement on line 3\n"
          ]
        }
      ]
    },
    {
      "cell_type": "markdown",
      "source": [
        "Comparison\n",
        "\n",
        "* Memory Usage: The fibonacci_list function creates a list of all Fibonacci numbers\n",
        "up to n, consuming memory proportional to n. In contrast, fibonacci_generator\n",
        "yields one number at a time, using minimal memory.\n",
        "\n",
        "* Execution: The generator allows for lazy evaluation, meaning you can start\n",
        "processing Fibonacci numbers without waiting for the entire sequence to be\n",
        "computed. This is especially useful for large values of n.\n",
        "\n",
        "In summary, generators provide a more efficient and elegant way to handle\n",
        "sequences of data, particularly when dealing with large or infinite datasets, making\n",
        "them a valuable tool in Python programming\n"
      ],
      "metadata": {
        "id": "61980LR9EkPJ"
      }
    },
    {
      "cell_type": "markdown",
      "source": [
        "###Q.8. What is a lambda function in Python and when is it typically used?\n",
        "\n",
        "Ans.\n",
        "A lambda function is a small, anonymous function in Python. It can take any\n",
        "number of arguments, but it can only contain one expression. It's defined using the\n",
        "lambda keyword.\n",
        "\n",
        "When to Use Lambda Functions:\n",
        "\n",
        "Lambda functions are typically used for short, simple functions that are needed only\n",
        "once. They are often used with higher-order functions like map, filter, and reduce.\n",
        "\n",
        "Let's say we have a list of numbers and we want to square each number. We can use\n",
        "a lambda function with the map function to achieve this:\n"
      ],
      "metadata": {
        "id": "dw1_Aja3EoU6"
      }
    },
    {
      "cell_type": "code",
      "source": [
        "numbers = [1, 2, 3, 4, 5]\n",
        "squared_numbers = list(map(lambda x: x*x, numbers))\n",
        "print(squared_numbers)\n"
      ],
      "metadata": {
        "colab": {
          "base_uri": "https://localhost:8080/"
        },
        "id": "aCqSis53FOf6",
        "outputId": "44453fa3-01c6-4efc-cc98-295fc7bbd10a"
      },
      "execution_count": null,
      "outputs": [
        {
          "output_type": "stream",
          "name": "stdout",
          "text": [
            "[1, 4, 9, 16, 25]\n"
          ]
        }
      ]
    },
    {
      "cell_type": "markdown",
      "source": [
        "Sorting a list of tuples based on the second element:"
      ],
      "metadata": {
        "id": "uOSJWJgfFSyd"
      }
    },
    {
      "cell_type": "code",
      "source": [
        "data = [(1, 'apple'), (3, 'banana'), (2, 'orange')]\n",
        "sorted_data = sorted(data, key=lambda x: x[1])\n",
        "print(sorted_data)"
      ],
      "metadata": {
        "colab": {
          "base_uri": "https://localhost:8080/"
        },
        "id": "3__hYcucFXuY",
        "outputId": "6dbbc974-711c-4515-9a7a-ca6aa53dfccd"
      },
      "execution_count": null,
      "outputs": [
        {
          "output_type": "stream",
          "name": "stdout",
          "text": [
            "[(1, 'apple'), (3, 'banana'), (2, 'orange')]\n"
          ]
        }
      ]
    },
    {
      "cell_type": "markdown",
      "source": [
        "###9. Explain the purpose and usage of the map() function in\n",
        "Python.\n",
        "\n",
        "Ans.The map() function in Python applies a given function to each item of an iterable\n",
        "(like a list, tuple, or string) and returns an iterator of the results. It's a powerful tool\n",
        "for transforming elements within an iterable without explicitly using a for loop.\n",
        "\n",
        "Syntax:\n",
        "\n",
        "map(function, iterable, iterable2, ...)\n",
        "\n",
        "function: The function to apply to each item.\n",
        "\n",
        "iterable: The iterable whose elements are to be processed.\n",
        "\n",
        "iterable2, ...: Additional iterables (optional), if the function takes multiple arguments.\n",
        "\n",
        "Let's say we have a list of numbers and we want to square each number. We can use\n",
        "the map() function with a lambda function to achieve this:"
      ],
      "metadata": {
        "id": "HwHMR6J8FW_X"
      }
    },
    {
      "cell_type": "code",
      "source": [
        "numbers = [1, 6, 3, 4, 5]\n",
        "squared_numbers = list(map(lambda x: x*x, numbers))\n",
        "print(squared_numbers)\n"
      ],
      "metadata": {
        "colab": {
          "base_uri": "https://localhost:8080/"
        },
        "id": "MXeCGLcjFyea",
        "outputId": "66fce45d-96f0-4348-8849-5b391c9d6881"
      },
      "execution_count": null,
      "outputs": [
        {
          "output_type": "stream",
          "name": "stdout",
          "text": [
            "[1, 36, 9, 16, 25]\n"
          ]
        }
      ]
    },
    {
      "cell_type": "markdown",
      "source": [],
      "metadata": {
        "id": "s2YIdZEvG4CD"
      }
    },
    {
      "cell_type": "markdown",
      "source": [
        "* map() returns an iterator, so you often need to convert it to a list or other iterable\n",
        "to use it.\n",
        "* It's efficient for applying a function to every element in an iterable.\n",
        "* It can be used with any function, including user-defined functions.\n",
        "* When dealing with multiple iterables, the function should accept multiple\n",
        "arguments.\n",
        "\n",
        "By understanding the map() function, we can write more concise and efficient Python\n",
        "code for various data processing tasks"
      ],
      "metadata": {
        "id": "cuzrDj6PGEQ4"
      }
    },
    {
      "cell_type": "markdown",
      "source": [
        "###Q.10. What is the difference between map(), reduce(), and filter() functions in Python?\n",
        "Ans.map(), filter(), and reduce() in Python\n",
        "These functions are commonly used in functional programming paradigms to\n",
        "manipulate iterables.\n",
        "\n",
        "map()\n",
        "\n",
        "Purpose: Applies a given function to each item of an iterable and returns an iterator\n",
        "of the results.\n",
        "\n",
        "Returns: An iterator.\n",
        "\n",
        "Example:\n"
      ],
      "metadata": {
        "id": "szPoitZgIc86"
      }
    },
    {
      "cell_type": "code",
      "source": [
        "numbers = [1, 2, 3, 4, 5]\n",
        "squared = map(lambda x: x**2, numbers)\n",
        "print(list(squared))"
      ],
      "metadata": {
        "colab": {
          "base_uri": "https://localhost:8080/"
        },
        "id": "V7mqV479I0HU",
        "outputId": "c6cc1098-f441-4403-d472-dcb9954fbd3e"
      },
      "execution_count": 5,
      "outputs": [
        {
          "output_type": "stream",
          "name": "stdout",
          "text": [
            "[1, 4, 9, 16, 25]\n"
          ]
        }
      ]
    },
    {
      "cell_type": "markdown",
      "source": [
        "filter()\n",
        "\n",
        "Purpose: Creates a new iterable with elements from the original iterable that satisfy\n",
        "a given condition.\n",
        "\n",
        "Returns: An iterator.\n",
        "\n",
        "Example:"
      ],
      "metadata": {
        "id": "nrW4pZvFI8qz"
      }
    },
    {
      "cell_type": "code",
      "source": [
        "numbers = [1, 2, 3, 4, 5]\n",
        "even_numbers = filter(lambda x: x % 2 == 0, numbers)\n",
        "print(list(even_numbers))"
      ],
      "metadata": {
        "colab": {
          "base_uri": "https://localhost:8080/"
        },
        "id": "-F9gO-LQJMF3",
        "outputId": "6c3fdb4a-3947-4086-fbcc-7eb33a47d6d2"
      },
      "execution_count": 6,
      "outputs": [
        {
          "output_type": "stream",
          "name": "stdout",
          "text": [
            "[2, 4]\n"
          ]
        }
      ]
    },
    {
      "cell_type": "markdown",
      "source": [
        "reduce()\n",
        "\n",
        "Purpose: Applies a function to the elements of an iterable, reducing them to a single\n",
        "value.\n",
        "\n",
        "Returns: A single value.\n",
        "\n",
        "Note: In Python 3, reduce() is not built-in and must be imported from the functools\n",
        "module.\n",
        "\n",
        "Example"
      ],
      "metadata": {
        "id": "THgfNqArJU9K"
      }
    },
    {
      "cell_type": "code",
      "source": [
        "from functools import reduce\n",
        "numbers = [1, 2, 3, 4, 5]\n",
        "product = reduce(lambda x, y: x*y, numbers)\n",
        "print(product)"
      ],
      "metadata": {
        "colab": {
          "base_uri": "https://localhost:8080/"
        },
        "id": "zKDJWDGWJUrA",
        "outputId": "168b1eb4-9064-4123-fa82-8e59a2d08d6b"
      },
      "execution_count": 7,
      "outputs": [
        {
          "output_type": "stream",
          "name": "stdout",
          "text": [
            "120\n"
          ]
        }
      ]
    },
    {
      "cell_type": "markdown",
      "source": [
        "Key Differences:\n",
        "\n",
        "map() applies a function to all elements.\n",
        "\n",
        "filter() selects elements based on a\n",
        "condition.\n",
        "\n",
        "reduce() combines elements into a single value."
      ],
      "metadata": {
        "id": "RDBHwl5UJjBm"
      }
    },
    {
      "cell_type": "markdown",
      "source": [
        "###Q.11. Using pen & Paper write the internal mechanism for sum operation using reduce function on this given list:[47,11,42,13];\n",
        "\n",
        "Ans.We'll use a lambda function as the reducing function to add two\n",
        "numbers"
      ],
      "metadata": {
        "id": "Hce6zZVFJzuZ"
      }
    },
    {
      "cell_type": "code",
      "source": [
        "from functools import reduce\n",
        "numbers = [47, 11, 42, 13]\n",
        "result = reduce(lambda x, y: x + y, numbers)\n",
        "from IPython import display\n",
        "display.Image(\"reduce_function.jpg\")"
      ],
      "metadata": {
        "id": "v2Ab0KntKD5D"
      },
      "execution_count": null,
      "outputs": []
    },
    {
      "cell_type": "markdown",
      "source": [
        "![reduce_function.jpg](data:image/jpeg;base64,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)"
      ],
      "metadata": {
        "id": "uJ4yOQ7-MJqY"
      }
    },
    {
      "cell_type": "markdown",
      "source": [
        "Visualization"
      ],
      "metadata": {
        "id": "kXvMdzyLMe_8"
      }
    },
    {
      "cell_type": "code",
      "source": [
        "reduce(lambda x, y: x + y, [47, 11, 42, 13])\n",
        "= reduce(lambda x, y: x + y, [58, 42, 13]) # 47 + 11 = 58\n",
        " = reduce(lambda x, y: x + y, [100, 13]) # 58 + 42 = 100\n",
        " = 113"
      ],
      "metadata": {
        "id": "zlCncwdpMhvW"
      },
      "execution_count": null,
      "outputs": []
    }
  ]
}